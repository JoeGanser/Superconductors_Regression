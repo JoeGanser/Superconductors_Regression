{
 "cells": [
  {
   "cell_type": "markdown",
   "metadata": {},
   "source": [
    "So what are some things I can do with this project?\n",
    "* I should validate the postulates of a good linear regression model\n",
    "* Plot r2 scores, RMSE and training time as a function of the number of features\n",
    "* Plot training error vs test error as a function of something (number of instances, hyperparameters)\n",
    "* http://www.cs.cornell.edu/courses/cs4780/2015fa/web/lecturenotes/lecturenote13.html\n",
    "* Determine feature importances\n",
    "* Plot y_test vs y_predict\n",
    "* Prove normality of errors\n",
    "* Prove heteroscedascity of errors"
   ]
  },
  {
   "cell_type": "code",
   "execution_count": null,
   "metadata": {},
   "outputs": [],
   "source": []
  }
 ],
 "metadata": {
  "kernelspec": {
   "display_name": "Python 3",
   "language": "python",
   "name": "python3"
  },
  "language_info": {
   "codemirror_mode": {
    "name": "ipython",
    "version": 3
   },
   "file_extension": ".py",
   "mimetype": "text/x-python",
   "name": "python",
   "nbconvert_exporter": "python",
   "pygments_lexer": "ipython3",
   "version": "3.6.4"
  }
 },
 "nbformat": 4,
 "nbformat_minor": 2
}
