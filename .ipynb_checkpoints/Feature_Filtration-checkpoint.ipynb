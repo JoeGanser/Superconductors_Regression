{
 "cells": [
  {
   "cell_type": "markdown",
   "metadata": {},
   "source": [
    "In this notebook I will be using filtration methods to identify useless features.\n",
    "\n",
    "First, load the data"
   ]
  },
  {
   "cell_type": "code",
   "execution_count": 73,
   "metadata": {},
   "outputs": [
    {
     "name": "stdout",
     "output_type": "stream",
     "text": [
      "(21263, 168)\n"
     ]
    }
   ],
   "source": [
    "import pandas as pd\n",
    "import numpy as np\n",
    "df1 = pd.read_csv('train.csv')\n",
    "other = pd.read_csv('unique_m.csv').drop(['critical_temp','material'],axis=1)\n",
    "df = pd.concat([df1,other],axis=1)\n",
    "original_columns = len(df.columns)\n",
    "print(df.shape)"
   ]
  },
  {
   "cell_type": "markdown",
   "metadata": {},
   "source": [
    "Now remove all low variance columns - ones for which 95% of the time they have the same value."
   ]
  },
  {
   "cell_type": "code",
   "execution_count": 74,
   "metadata": {},
   "outputs": [
    {
     "data": {
      "text/plain": [
       "(21263, 132)"
      ]
     },
     "execution_count": 74,
     "metadata": {},
     "output_type": "execute_result"
    }
   ],
   "source": [
    "\n",
    "# remove all columns that have a very small variance\n",
    "threshold=0.05 #this gets rid of features which are the same value 95% of the time\n",
    "from sklearn.feature_selection import VarianceThreshold\n",
    "selector = VarianceThreshold(threshold=threshold).fit(df)\n",
    "df = pd.DataFrame(selector.transform(df),columns=df.columns[selector.get_support()])\n",
    "df.shape"
   ]
  },
  {
   "cell_type": "markdown",
   "metadata": {},
   "source": [
    "Now drop any duplicated features, if they exist."
   ]
  },
  {
   "cell_type": "code",
   "execution_count": 75,
   "metadata": {},
   "outputs": [
    {
     "name": "stdout",
     "output_type": "stream",
     "text": [
      "(21263, 132)\n"
     ]
    }
   ],
   "source": [
    "#drop any duplicate features\n",
    "df = df.transpose().drop_duplicates(keep='first').transpose()\n",
    "print(df.shape)"
   ]
  },
  {
   "cell_type": "markdown",
   "metadata": {},
   "source": [
    "Now drop any mutually correlated features."
   ]
  },
  {
   "cell_type": "code",
   "execution_count": 76,
   "metadata": {},
   "outputs": [
    {
     "name": "stdout",
     "output_type": "stream",
     "text": [
      "55\n"
     ]
    },
    {
     "data": {
      "text/plain": [
       "(21263, 77)"
      ]
     },
     "execution_count": 76,
     "metadata": {},
     "output_type": "execute_result"
    }
   ],
   "source": [
    "#Now drop any correlated features\n",
    "correlation_matrix = df.corr() \n",
    "mutually_correlated_features = set()  \n",
    "for i in range(len(correlation_matrix.columns)):  \n",
    "    for j in range(i):\n",
    "        if abs(correlation_matrix.iloc[i, j]) > 0.8:\n",
    "            colname = correlation_matrix.columns[i]\n",
    "            if colname!='critical_temp':\n",
    "                mutually_correlated_features.add(colname)\n",
    "print(len(mutually_correlated_features))\n",
    "df.drop(mutually_correlated_features,axis=1,inplace=True)\n",
    "df.shape"
   ]
  },
  {
   "cell_type": "markdown",
   "metadata": {},
   "source": [
    "Now get rid of any features that have a very low correlation (abs<0.1) with the target variable, `critical_temp`."
   ]
  },
  {
   "cell_type": "code",
   "execution_count": 79,
   "metadata": {},
   "outputs": [
    {
     "data": {
      "text/plain": [
       "(21263, 36)"
      ]
     },
     "execution_count": 79,
     "metadata": {},
     "output_type": "execute_result"
    }
   ],
   "source": [
    "#This gets rid of features that have a absolute correlation with the target less than 0.1\n",
    "\n",
    "correlation_threshhold = 0.1\n",
    "\n",
    "corr = pd.DataFrame(df.corr()['critical_temp'])\n",
    "corr['abs'] = np.abs(corr['critical_temp'])\n",
    "corr = corr.sort_values(by='abs',ascending=False).drop('abs',axis=1).dropna().reset_index()\n",
    "corr = corr.rename(columns={'index':'feature','critical_temp':'corr'}).loc[1:]\n",
    "\n",
    "low_correlated_features = list(corr[np.abs(corr['corr'])<=correlation_threshhold]['feature'])\n",
    "df.drop(low_correlated_features,axis=1,inplace=True)\n",
    "df.shape"
   ]
  },
  {
   "cell_type": "code",
   "execution_count": 78,
   "metadata": {},
   "outputs": [
    {
     "name": "stdout",
     "output_type": "stream",
     "text": [
      "132 features were found to be irrelevant\n"
     ]
    }
   ],
   "source": [
    "print(str(original_columns-df.shape[1])+' features were found to be irrelevant')"
   ]
  },
  {
   "cell_type": "markdown",
   "metadata": {},
   "source": [
    "Now save the data set for modelling."
   ]
  },
  {
   "cell_type": "code",
   "execution_count": 80,
   "metadata": {},
   "outputs": [],
   "source": [
    "df.to_csv('data_filtered.csv')"
   ]
  },
  {
   "cell_type": "markdown",
   "metadata": {},
   "source": [
    "# Sources:\n",
    "\n",
    "https://stackabuse.com/applying-filter-methods-in-python-for-feature-selection/\n",
    "\n",
    "https://stackabuse.com/applying-wrapper-methods-in-python-for-feature-selection/"
   ]
  },
  {
   "cell_type": "code",
   "execution_count": null,
   "metadata": {},
   "outputs": [],
   "source": []
  }
 ],
 "metadata": {
  "kernelspec": {
   "display_name": "Python 3",
   "language": "python",
   "name": "python3"
  },
  "language_info": {
   "codemirror_mode": {
    "name": "ipython",
    "version": 3
   },
   "file_extension": ".py",
   "mimetype": "text/x-python",
   "name": "python",
   "nbconvert_exporter": "python",
   "pygments_lexer": "ipython3",
   "version": "3.6.4"
  }
 },
 "nbformat": 4,
 "nbformat_minor": 2
}
